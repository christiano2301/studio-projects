{
 "cells": [
  {
   "cell_type": "markdown",
   "metadata": {},
   "source": [
    "# Scraping Maryland Business Licenses with Selenium\n",
    "\n",
    "Maryland has a [great portal](https://jportal.mdcourts.gov/license/pbPublicSearch.jsp) for searching business licenses, but the only problem is you have to check a box in order to get in.\n",
    "\n",
    "1. Try to visit [the public search page](https://jportal.mdcourts.gov/license/pbPublicSearch.jsp)\n",
    "2. Get redirected to a \"I agree to this\" page. Click that you've read the disclaimer, click Enter the Site.\n",
    "3. Click \"Search License Records\" down at the bottom of the page\n",
    "4. You're now on the search page! From the \"Jurisdiction\" dropdown, select \"Statewide\"\n",
    "5. In the \"Trade Name\" field, type \"Vap%\" to try to find vape shops\n",
    "6. Click \"Next\" in the bottom right-hand corner to go to the next page\n",
    "7. Click \"Click for detail\" to see the details for a specific business license.\n",
    "\n",
    "That's a lot of stuff! **Let's get to work.**"
   ]
  },
  {
   "cell_type": "markdown",
   "metadata": {},
   "source": [
    "## Preparation\n",
    "\n",
    "### When you search for a business license, what URL should Selenium try to visit first?"
   ]
  },
  {
   "cell_type": "code",
   "execution_count": 82,
   "metadata": {
    "collapsed": true
   },
   "outputs": [],
   "source": [
    "import selenium"
   ]
  },
  {
   "cell_type": "code",
   "execution_count": 83,
   "metadata": {
    "collapsed": true
   },
   "outputs": [],
   "source": [
    "from selenium import webdriver"
   ]
  },
  {
   "cell_type": "code",
   "execution_count": 84,
   "metadata": {
    "collapsed": true
   },
   "outputs": [],
   "source": [
    "driver = webdriver.Chrome()"
   ]
  },
  {
   "cell_type": "code",
   "execution_count": 85,
   "metadata": {
    "collapsed": true
   },
   "outputs": [],
   "source": [
    "driver.get(\"https://jportal.mdcourts.gov/license/index_disclaimer.jsp\")"
   ]
  },
  {
   "cell_type": "markdown",
   "metadata": {},
   "source": [
    "**It isn't going to work, though! It's going to redirect to that intro page.** You can use *Incognito mode* to go back through the \"Check the box, etc\" series of pages.\n",
    "\n",
    "### How will you identify the checkbox to check it?\n",
    "\n",
    "Selenium can find elements by:\n",
    "\n",
    "- name\n",
    "- Class\n",
    "- ID\n",
    "- CSS selector (**ASK ME WHAT THIS IS** if you don't know)\n",
    "- XPath (**ASK ME WHAT THIS IS** because you definitely don't know)\n",
    "- Link text\n",
    "- Partial link text\n",
    "\n",
    "So in other words, what's unique about this element?\n",
    "\n",
    "- *TIP: I have a secret awesome way to do this, but you have to ask.*"
   ]
  },
  {
   "cell_type": "code",
   "execution_count": 86,
   "metadata": {
    "collapsed": true
   },
   "outputs": [],
   "source": [
    "box = driver.find_element_by_xpath('//*[@id=\"checkbox\"]')\n",
    "box.click()"
   ]
  },
  {
   "cell_type": "code",
   "execution_count": 87,
   "metadata": {
    "collapsed": true
   },
   "outputs": [],
   "source": [
    "enter_site = driver.find_element_by_xpath('/html/body/table/tbody/tr[7]/td/form/div/input[2]')\n",
    "enter_site.click()"
   ]
  },
  {
   "cell_type": "markdown",
   "metadata": {},
   "source": [
    "### How will you identify the button to select it, or the form to submit it?\n",
    "\n",
    "Selenium can submit forms by either\n",
    "\n",
    "- Selecting the form and using `.submit()`, or\n",
    "- Selecting the button and using `.click()`\n",
    "\n",
    "You only need to be able to get **one, not both.**"
   ]
  },
  {
   "cell_type": "code",
   "execution_count": null,
   "metadata": {
    "collapsed": true
   },
   "outputs": [],
   "source": []
  },
  {
   "cell_type": "markdown",
   "metadata": {},
   "source": [
    "### Once you're on the next page, how will you click the \"SEARCH LICENSE RECORDS\" link or follow its URL?"
   ]
  },
  {
   "cell_type": "code",
   "execution_count": 88,
   "metadata": {
    "collapsed": true
   },
   "outputs": [],
   "source": [
    "search_records = driver.find_element_by_xpath('/html/body/table[2]/tbody/tr[6]/td[2]/a[2]')\n",
    "search_records.click()"
   ]
  },
  {
   "cell_type": "markdown",
   "metadata": {},
   "source": [
    "### Now you're on the form page. How do you pick \"Statewide\" for the jurisdiction dropdown?"
   ]
  },
  {
   "cell_type": "code",
   "execution_count": 89,
   "metadata": {
    "collapsed": true
   },
   "outputs": [],
   "source": [
    "juri = driver.find_element_by_xpath('//*[@id=\"slcJurisdiction\"]/option[2]')\n",
    "juri.click()\n",
    "#select = Select(juri)\n",
    "# select.select_by_visible_text('Statewide')"
   ]
  },
  {
   "cell_type": "markdown",
   "metadata": {},
   "source": [
    "### How do you type \"vap%\" into the Trade Name field?"
   ]
  },
  {
   "cell_type": "code",
   "execution_count": 90,
   "metadata": {
    "collapsed": true
   },
   "outputs": [],
   "source": [
    "trade_name = driver.find_element_by_xpath('//*[@id=\"txtTradeName\"]')\n",
    "trade_name.click()"
   ]
  },
  {
   "cell_type": "code",
   "execution_count": 91,
   "metadata": {
    "collapsed": true
   },
   "outputs": [],
   "source": [
    "trade_name.send_keys(\"vap%\")"
   ]
  },
  {
   "cell_type": "code",
   "execution_count": 92,
   "metadata": {
    "collapsed": true
   },
   "outputs": [],
   "source": [
    "# count = 0\n",
    "# while True:\n",
    "#  try:\n",
    "#  Hey, to get that link and click it\n",
    "# driver.get_the_thing(\"Next\").click()\n",
    "# except:\n",
    "#  Oh did you get an error? Exit the while loop \n",
    "# break "
   ]
  },
  {
   "cell_type": "markdown",
   "metadata": {},
   "source": [
    "### How do you click the submit button or submit the form?"
   ]
  },
  {
   "cell_type": "code",
   "execution_count": 93,
   "metadata": {
    "collapsed": true
   },
   "outputs": [],
   "source": [
    "submit = driver.find_element_by_xpath('/html/body/table[2]/tbody/tr[4]/td[2]/form/table/tbody/tr[14]/td/input[1]')\n",
    "submit.click()"
   ]
  },
  {
   "cell_type": "markdown",
   "metadata": {},
   "source": [
    "### How can you find and click the 'Next' button on the search results page?"
   ]
  },
  {
   "cell_type": "code",
   "execution_count": 94,
   "metadata": {
    "collapsed": true
   },
   "outputs": [],
   "source": [
    "next_but = driver.find_element_by_xpath('/html/body/table[2]/tbody/tr[4]/td[2]/table[2]/tbody/tr/td[3]/a/nobr')\n",
    "next_but.click()"
   ]
  },
  {
   "cell_type": "markdown",
   "metadata": {},
   "source": [
    "# Okay, let's scrape!\n",
    "\n",
    "### Use Selenium to search for vape shops statewide, and then click through until it reaches the last page.\n",
    "\n",
    "Don't scrape yet!"
   ]
  },
  {
   "cell_type": "code",
   "execution_count": 95,
   "metadata": {},
   "outputs": [
    {
     "name": "stdout",
     "output_type": "stream",
     "text": [
      "{'Firm': 'DISBROW II EMERSON HARRINGTON\\nLic. Status: Issued', 'Address': '185 MITCHELLS CHANCE RD\\nLicense: 02102408', 'Area': 'EDGEWATER, MD 21037\\nIssued Date: 4/13/2017', 'County': 'Anne Arundel County'}\n",
      "{'Firm': 'DISCOUNT TOBACCO ESSEX LLC\\nLic. Status: Issued', 'Address': '7104 MINSTREL UNIT #7\\nLicense: 13141786', 'Area': 'COLUMBIA, MD 21045\\nIssued Date: 5/19/2017', 'County': 'Howard County'}\n",
      "{'Firm': 'FAIRGROUND VILLAGE LLC\\nLic. Status: Issued', 'Address': '330 ONE FORTY VILLAGE ROAD\\nLicense: 06126253', 'Area': 'WESTMINSTER, MD 21157\\nIssued Date: 4/21/2017', 'County': 'Carroll County'}\n",
      "{'Firm': 'GRIMM JENNIFER\\nLic. Status: Pending', 'Address': '29890 THREE NOTCH ROAD', 'Area': 'CHARLOTTE HALL, MD 20622', 'County': \"St. Mary's County\"}\n",
      "{'Firm': 'HUTCH VAPES LLC\\nLic. Status: Issued', 'Address': '356 ROMANCOKE ROAD\\nLicense: 17166688', 'Area': 'STEVENSVILLE, MD 21666\\nIssued Date: 4/13/2017', 'County': \"Queen Anne's County\"}\n",
      "{'Firm': 'HUTCHINS COX LLP\\nLic. Status: Pending', 'Address': '110 S PINEY ROAD  STE 106', 'Area': 'CHESTER, MD 21619', 'County': \"Queen Anne's County\"}\n",
      "{'Firm': 'JAMESON WILLIAM\\nLic. Status: Issued', 'Address': '28943 THREE NOTCH ROAD\\nLicense: 18167503', 'Area': 'MECHANICSVILLE, MD 20659\\nIssued Date: 5/17/2017', 'County': \"St. Mary's County\"}\n",
      "{'Firm': 'JAMESON WILLIAM E\\nLic. Status: Pending', 'Address': '6843 CRAIN HIGHWAY', 'Area': 'LA PLATA, MD 20646', 'County': 'Charles County'}\n",
      "{'Firm': 'JEFFERS MICHAEL\\nLic. Status: Pending', 'Address': '6321 OLD BRANCH AVE', 'Area': 'CAMP SPRINGS, MD 20748', 'County': \"St. Mary's County\"}\n",
      "{'Firm': 'JEFFERS MICHAEL W\\nLic. Status: Pending', 'Address': '6321 OLD BRANCH AVE', 'Area': 'CAMP SPRINGS, MD 20748', 'County': \"Prince George's County\"}\n",
      "{'Firm': 'SHIN JENNY Y\\nLic. Status: Pending', 'Address': '7954 B AND A BLVD', 'Area': 'GLEN BURNIE, MD 21060', 'County': 'Anne Arundel County'}\n",
      "{'Firm': 'SHIN JENNY YOUNG\\nLic. Status: Pending', 'Address': '6325 WASHINGTON BLVD', 'Area': 'ELKRIDGE, MD 21075', 'County': 'Howard County'}\n",
      "{'Firm': 'TAYLOR TRAVIS\\nLic. Status: Pending', 'Address': '3203 NORTH POINT RD', 'Area': 'BALTIMORE, MD 21222', 'County': 'Baltimore County'}\n",
      "{'Firm': 'TRUE ENTERPRISE INC\\nLic. Status: Issued', 'Address': '519 LINDEN AVENUE UNIT 6\\nLicense: 23178140', 'Area': 'POCOMOKE CITY, MD 21851\\nIssued Date: 5/05/2017', 'County': 'Worcester County'}\n",
      "{'Firm': 'VAPE  SOCIAL  LLC\\nLic. Status: Issued', 'Address': '16521 S FREDERICK AVE\\nLicense: 15155429', 'Area': 'GAITHERSBURG, MD 20877\\nIssued Date: 4/18/2017', 'County': 'Montgomery County'}\n",
      "{'Firm': 'VAPE JUNGLE LLC\\nLic. Status: Issued', 'Address': '2070 CRAIN HIGHWAY  UNIT F\\nLicense: 08131285', 'Area': 'WALDORF, MD 20601\\nIssued Date: 3/31/2017', 'County': 'Charles County'}\n",
      "{'Firm': 'VAPE TIME LLC\\nLic. Status: Pending', 'Address': '4130 E JOPPA RD UNIT 109', 'Area': 'NOTTINGHAM, MD 21236', 'County': 'Baltimore County'}\n",
      "{'Firm': 'VAPEBAR EXPRESS LLC\\nLic. Status: Pending', 'Address': '11110 MALL CIRCLE', 'Area': 'WALDORF, MD 20603', 'County': 'Charles County'}\n",
      "{'Firm': 'VAPOR 99 LLC\\nLic. Status: Issued', 'Address': '3524 CRAIN HWY\\nLicense: 16165362', 'Area': 'BOWIE, MD 20716\\nIssued Date: 5/03/2017', 'County': \"Prince George's County\"}\n",
      "{'Firm': 'VAPOR ALLEY LLC\\nLic. Status: Issued', 'Address': '8117 OCEAN GATEWAY UNIT #4\\nLicense: 20170900', 'Area': 'EASTON, MD 21601\\nIssued Date: 5/10/2017', 'County': 'Talbot County'}\n",
      "{'Firm': 'VAPOR EMPORIUM MD LLC\\nLic. Status: Issued', 'Address': '11717 OLD NATIONAL PIKE\\nLicense: 10135432', 'Area': 'NEW MARKET, MD 21774\\nIssued Date: 4/14/2017', 'County': 'Frederick County'}\n",
      "{'Firm': 'VAPOR VILLA CORP\\nLic. Status: Issued', 'Address': '1913 LANSDOWNE ROAD SUITE E\\nLicense: 03121958', 'Area': 'BALTIMORE, MD 21227\\nIssued Date: 4/12/2017', 'County': 'Baltimore County'}\n",
      "{'Firm': 'VAPOR VILLA CORP\\nLic. Status: Issued', 'Address': '730 FREDERICK ROAD\\nLicense: 03121959', 'Area': 'CATONSVILLE, MD 21228\\nIssued Date: 4/12/2017', 'County': 'Baltimore County'}\n",
      "{'Firm': 'WALKER TRADING CO INC\\nLic. Status: Issued', 'Address': '138 N BOND STREET\\nLicense: 12140135', 'Area': 'BEL AIR, MD 21014\\nIssued Date: 4/03/2017', 'County': 'Harford County'}\n",
      "{'Firm': 'WALKER TRADING COMPANY INC\\nLic. Status: Issued', 'Address': '3570 SAINT JOHNS LANE, SUITE 109\\nLicense: 13144108', 'Area': 'ELLICOTT CITY, MD 21042\\nIssued Date: 3/27/2017', 'County': 'Howard County'}\n",
      "{'Firm': 'WALKER TRADING COMPANY INC\\nLic. Status: Pending', 'Address': '11600 CROSSROAD CIR  STE E', 'Area': 'BALTIMORE, MD 21220', 'County': 'Baltimore County'}\n",
      "{'Firm': 'YARKHOUSE EMPIRE INC\\nLic. Status: Pending', 'Address': '3315 PLAZA WAY', 'Area': 'WALDORF, MD 20603', 'County': 'Charles County'}\n"
     ]
    }
   ],
   "source": [
    "results = []\n",
    "while True:\n",
    "    doc = BeautifulSoup(driver.page_source, 'html.parser')\n",
    "    business_headers = doc.find_all('tr',class_='searchfieldtitle')\n",
    "    for header in business_headers:\n",
    "        rows = header.find_next_siblings('tr')\n",
    "        current = {}\n",
    "        current['Firm'] = rows[0].text.strip()\n",
    "        current['Address'] = rows[1].text.strip()\n",
    "        current['Area'] = rows[2].text.strip()\n",
    "        current['County'] = rows[3].text.strip()\n",
    "        results.append(current)\n",
    "        print(current)\n",
    "    try:\n",
    "        next_but = driver.find_element_by_xpath('/html/body/table[2]/tbody/tr[4]/td[2]/table[2]/tbody/tr/td[3]/a/nobr')\n",
    "        next_but.click()\n",
    "    except:\n",
    "        break"
   ]
  },
  {
   "cell_type": "markdown",
   "metadata": {},
   "source": [
    "### Use Selenium to scrape the first page of search results for vape shops statewide (well, we'll try).\n",
    "\n",
    "- *TIP: You can find elements/text using Selenium, or use BeautifulSoup with `doc = BeautifulSoup(driver.page_source)`*\n",
    "\n",
    "I've included some BeautifulSoup code that might be helpful. If you use it, **ask me how I made it.** It's important."
   ]
  },
  {
   "cell_type": "code",
   "execution_count": 96,
   "metadata": {},
   "outputs": [],
   "source": [
    "import requests\n",
    "from bs4 import BeautifulSoup\n",
    "doc = BeautifulSoup(driver.page_source, 'html.parser')"
   ]
  },
  {
   "cell_type": "code",
   "execution_count": 97,
   "metadata": {},
   "outputs": [
    {
     "data": {
      "text/plain": [
       "2"
      ]
     },
     "execution_count": 97,
     "metadata": {},
     "output_type": "execute_result"
    }
   ],
   "source": [
    "# IF YOU ARE USING BEAUTIFULSOUP, HERE IS SOME SAMPLE CODE\n",
    "# IF YOU USE THIS CODE, ASK ME HOW I MADE IT. IT'S IMPORTANT.\n",
    "business_headers = doc.find_all('tr',class_='searchfieldtitle')\n",
    "len(business_headers)"
   ]
  },
  {
   "cell_type": "markdown",
   "metadata": {},
   "source": [
    "### Save these into `vape-results.csv`"
   ]
  },
  {
   "cell_type": "code",
   "execution_count": 98,
   "metadata": {
    "collapsed": true
   },
   "outputs": [],
   "source": [
    "import pandas as pd"
   ]
  },
  {
   "cell_type": "code",
   "execution_count": 99,
   "metadata": {},
   "outputs": [
    {
     "data": {
      "text/html": [
       "<div>\n",
       "<style>\n",
       "    .dataframe thead tr:only-child th {\n",
       "        text-align: right;\n",
       "    }\n",
       "\n",
       "    .dataframe thead th {\n",
       "        text-align: left;\n",
       "    }\n",
       "\n",
       "    .dataframe tbody tr th {\n",
       "        vertical-align: top;\n",
       "    }\n",
       "</style>\n",
       "<table border=\"1\" class=\"dataframe\">\n",
       "  <thead>\n",
       "    <tr style=\"text-align: right;\">\n",
       "      <th></th>\n",
       "      <th>Address</th>\n",
       "      <th>Area</th>\n",
       "      <th>County</th>\n",
       "      <th>Firm</th>\n",
       "    </tr>\n",
       "  </thead>\n",
       "  <tbody>\n",
       "    <tr>\n",
       "      <th>0</th>\n",
       "      <td>185 MITCHELLS CHANCE RD\\nLicense: 02102408</td>\n",
       "      <td>EDGEWATER, MD 21037\\nIssued Date: 4/13/2017</td>\n",
       "      <td>Anne Arundel County</td>\n",
       "      <td>DISBROW II EMERSON HARRINGTON\\nLic. Status: Is...</td>\n",
       "    </tr>\n",
       "    <tr>\n",
       "      <th>1</th>\n",
       "      <td>7104 MINSTREL UNIT #7\\nLicense: 13141786</td>\n",
       "      <td>COLUMBIA, MD 21045\\nIssued Date: 5/19/2017</td>\n",
       "      <td>Howard County</td>\n",
       "      <td>DISCOUNT TOBACCO ESSEX LLC\\nLic. Status: Issued</td>\n",
       "    </tr>\n",
       "    <tr>\n",
       "      <th>2</th>\n",
       "      <td>330 ONE FORTY VILLAGE ROAD\\nLicense: 06126253</td>\n",
       "      <td>WESTMINSTER, MD 21157\\nIssued Date: 4/21/2017</td>\n",
       "      <td>Carroll County</td>\n",
       "      <td>FAIRGROUND VILLAGE LLC\\nLic. Status: Issued</td>\n",
       "    </tr>\n",
       "    <tr>\n",
       "      <th>3</th>\n",
       "      <td>29890 THREE NOTCH ROAD</td>\n",
       "      <td>CHARLOTTE HALL, MD 20622</td>\n",
       "      <td>St. Mary's County</td>\n",
       "      <td>GRIMM JENNIFER\\nLic. Status: Pending</td>\n",
       "    </tr>\n",
       "    <tr>\n",
       "      <th>4</th>\n",
       "      <td>356 ROMANCOKE ROAD\\nLicense: 17166688</td>\n",
       "      <td>STEVENSVILLE, MD 21666\\nIssued Date: 4/13/2017</td>\n",
       "      <td>Queen Anne's County</td>\n",
       "      <td>HUTCH VAPES LLC\\nLic. Status: Issued</td>\n",
       "    </tr>\n",
       "  </tbody>\n",
       "</table>\n",
       "</div>"
      ],
      "text/plain": [
       "                                         Address  \\\n",
       "0     185 MITCHELLS CHANCE RD\\nLicense: 02102408   \n",
       "1       7104 MINSTREL UNIT #7\\nLicense: 13141786   \n",
       "2  330 ONE FORTY VILLAGE ROAD\\nLicense: 06126253   \n",
       "3                         29890 THREE NOTCH ROAD   \n",
       "4          356 ROMANCOKE ROAD\\nLicense: 17166688   \n",
       "\n",
       "                                             Area               County  \\\n",
       "0     EDGEWATER, MD 21037\\nIssued Date: 4/13/2017  Anne Arundel County   \n",
       "1      COLUMBIA, MD 21045\\nIssued Date: 5/19/2017        Howard County   \n",
       "2   WESTMINSTER, MD 21157\\nIssued Date: 4/21/2017       Carroll County   \n",
       "3                        CHARLOTTE HALL, MD 20622    St. Mary's County   \n",
       "4  STEVENSVILLE, MD 21666\\nIssued Date: 4/13/2017  Queen Anne's County   \n",
       "\n",
       "                                                Firm  \n",
       "0  DISBROW II EMERSON HARRINGTON\\nLic. Status: Is...  \n",
       "1    DISCOUNT TOBACCO ESSEX LLC\\nLic. Status: Issued  \n",
       "2        FAIRGROUND VILLAGE LLC\\nLic. Status: Issued  \n",
       "3               GRIMM JENNIFER\\nLic. Status: Pending  \n",
       "4               HUTCH VAPES LLC\\nLic. Status: Issued  "
      ]
     },
     "execution_count": 99,
     "metadata": {},
     "output_type": "execute_result"
    }
   ],
   "source": [
    "df = pd.DataFrame(results)\n",
    "df.head()"
   ]
  },
  {
   "cell_type": "code",
   "execution_count": 100,
   "metadata": {
    "collapsed": true
   },
   "outputs": [],
   "source": [
    "df.to_csv(\"vape-results.csv\", index=False)"
   ]
  },
  {
   "cell_type": "markdown",
   "metadata": {},
   "source": [
    "### Open `vape-results.csv` to make sure there aren't any extra weird columns"
   ]
  },
  {
   "cell_type": "code",
   "execution_count": 101,
   "metadata": {},
   "outputs": [
    {
     "data": {
      "text/html": [
       "<div>\n",
       "<style>\n",
       "    .dataframe thead tr:only-child th {\n",
       "        text-align: right;\n",
       "    }\n",
       "\n",
       "    .dataframe thead th {\n",
       "        text-align: left;\n",
       "    }\n",
       "\n",
       "    .dataframe tbody tr th {\n",
       "        vertical-align: top;\n",
       "    }\n",
       "</style>\n",
       "<table border=\"1\" class=\"dataframe\">\n",
       "  <thead>\n",
       "    <tr style=\"text-align: right;\">\n",
       "      <th></th>\n",
       "      <th>Address</th>\n",
       "      <th>Area</th>\n",
       "      <th>County</th>\n",
       "      <th>Firm</th>\n",
       "    </tr>\n",
       "  </thead>\n",
       "  <tbody>\n",
       "    <tr>\n",
       "      <th>0</th>\n",
       "      <td>185 MITCHELLS CHANCE RD\\nLicense: 02102408</td>\n",
       "      <td>EDGEWATER, MD 21037\\nIssued Date: 4/13/2017</td>\n",
       "      <td>Anne Arundel County</td>\n",
       "      <td>DISBROW II EMERSON HARRINGTON\\nLic. Status: Is...</td>\n",
       "    </tr>\n",
       "    <tr>\n",
       "      <th>1</th>\n",
       "      <td>7104 MINSTREL UNIT #7\\nLicense: 13141786</td>\n",
       "      <td>COLUMBIA, MD 21045\\nIssued Date: 5/19/2017</td>\n",
       "      <td>Howard County</td>\n",
       "      <td>DISCOUNT TOBACCO ESSEX LLC\\nLic. Status: Issued</td>\n",
       "    </tr>\n",
       "    <tr>\n",
       "      <th>2</th>\n",
       "      <td>330 ONE FORTY VILLAGE ROAD\\nLicense: 06126253</td>\n",
       "      <td>WESTMINSTER, MD 21157\\nIssued Date: 4/21/2017</td>\n",
       "      <td>Carroll County</td>\n",
       "      <td>FAIRGROUND VILLAGE LLC\\nLic. Status: Issued</td>\n",
       "    </tr>\n",
       "    <tr>\n",
       "      <th>3</th>\n",
       "      <td>29890 THREE NOTCH ROAD</td>\n",
       "      <td>CHARLOTTE HALL, MD 20622</td>\n",
       "      <td>St. Mary's County</td>\n",
       "      <td>GRIMM JENNIFER\\nLic. Status: Pending</td>\n",
       "    </tr>\n",
       "    <tr>\n",
       "      <th>4</th>\n",
       "      <td>356 ROMANCOKE ROAD\\nLicense: 17166688</td>\n",
       "      <td>STEVENSVILLE, MD 21666\\nIssued Date: 4/13/2017</td>\n",
       "      <td>Queen Anne's County</td>\n",
       "      <td>HUTCH VAPES LLC\\nLic. Status: Issued</td>\n",
       "    </tr>\n",
       "  </tbody>\n",
       "</table>\n",
       "</div>"
      ],
      "text/plain": [
       "                                         Address  \\\n",
       "0     185 MITCHELLS CHANCE RD\\nLicense: 02102408   \n",
       "1       7104 MINSTREL UNIT #7\\nLicense: 13141786   \n",
       "2  330 ONE FORTY VILLAGE ROAD\\nLicense: 06126253   \n",
       "3                         29890 THREE NOTCH ROAD   \n",
       "4          356 ROMANCOKE ROAD\\nLicense: 17166688   \n",
       "\n",
       "                                             Area               County  \\\n",
       "0     EDGEWATER, MD 21037\\nIssued Date: 4/13/2017  Anne Arundel County   \n",
       "1      COLUMBIA, MD 21045\\nIssued Date: 5/19/2017        Howard County   \n",
       "2   WESTMINSTER, MD 21157\\nIssued Date: 4/21/2017       Carroll County   \n",
       "3                        CHARLOTTE HALL, MD 20622    St. Mary's County   \n",
       "4  STEVENSVILLE, MD 21666\\nIssued Date: 4/13/2017  Queen Anne's County   \n",
       "\n",
       "                                                Firm  \n",
       "0  DISBROW II EMERSON HARRINGTON\\nLic. Status: Is...  \n",
       "1    DISCOUNT TOBACCO ESSEX LLC\\nLic. Status: Issued  \n",
       "2        FAIRGROUND VILLAGE LLC\\nLic. Status: Issued  \n",
       "3               GRIMM JENNIFER\\nLic. Status: Pending  \n",
       "4               HUTCH VAPES LLC\\nLic. Status: Issued  "
      ]
     },
     "execution_count": 101,
     "metadata": {},
     "output_type": "execute_result"
    }
   ],
   "source": [
    "results_df = pd.read_csv(\"vape-results.csv\")\n",
    "results_df.head()"
   ]
  },
  {
   "cell_type": "markdown",
   "metadata": {},
   "source": [
    "## Use Selenium to scrape ALL pages of results, save the results into `vape-results-all.csv`."
   ]
  },
  {
   "cell_type": "code",
   "execution_count": null,
   "metadata": {
    "collapsed": true
   },
   "outputs": [],
   "source": []
  }
 ],
 "metadata": {
  "kernelspec": {
   "display_name": "Python 3",
   "language": "python",
   "name": "python3"
  },
  "language_info": {
   "codemirror_mode": {
    "name": "ipython",
    "version": 3
   },
   "file_extension": ".py",
   "mimetype": "text/x-python",
   "name": "python",
   "nbconvert_exporter": "python",
   "pygments_lexer": "ipython3",
   "version": "3.6.1"
  }
 },
 "nbformat": 4,
 "nbformat_minor": 2
}
